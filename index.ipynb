{
 "cells": [
  {
   "cell_type": "markdown",
   "metadata": {},
   "source": [
    "# Coding Logistic Regression From Scratch - Lab\n",
    "\n",
    "## Introduction\n",
    "\n",
    "In this lab, you'll practice your ability to translate mathematical algorithms into python functions. This will deepen and solidify your understanding of the logistic regression!\n",
    "\n",
    "## Objectives\n",
    "\n",
    "You will be able to:\n",
    "* Understand and implement logistic regression"
   ]
  },
  {
   "cell_type": "markdown",
   "metadata": {},
   "source": [
    "## Overview\n",
    "\n",
    "Recall that the logistic regression algorithm take our previous intuition from logistic regression. In logistic regression, we start by taking our input data, X and multiplying it by a vector of weights for each of the individual features, which produces our output y. Afterwards we'll work on using an iterative approach via gradient descent to tune these weights."
   ]
  },
  {
   "cell_type": "markdown",
   "metadata": {},
   "source": [
    "## Linear Regression Setup\n",
    "\n",
    "Write a simple function `predict_y` that takes in a matrix `X` of observations and a vector of feature weights `w` and outputs a vector of predictions for the various observations.\n",
    "\n",
    "Recall that this is the sum of the product of each of the feature observations and their corresponding feature weights:  \n",
    "$ \\hat{y}_i = X_{i1} \\bullet w_1 + X_{i2} \\bullet w_2 + X_{i3} \\bullet w_3 + ... + X_{in} \\bullet w_n$\n",
    "\n",
    "Hint: think about which mathematical operation we previously discussed that will take a matrix (X) and multiply it by a vector of weights (w) to succinctly do this in a single operation."
   ]
  },
  {
   "cell_type": "code",
   "execution_count": 1,
   "metadata": {},
   "outputs": [],
   "source": [
    "#Your code here\n",
    "# NOTE: the structure of the weights and features (additive) suggest that we are calculating the logit function (log odds), \n",
    "# depending on what the weights are?\n",
    "import numpy as np\n",
    "\n",
    "def predict_y(X, w):\n",
    "    return np.dot(X,w)\n",
    "    "
   ]
  },
  {
   "cell_type": "markdown",
   "metadata": {},
   "source": [
    "## The Sigmoid Function\n",
    "\n",
    "Recall that the sigmoid function is used to map our previous linear regression model to a range of 0 to 1, satisfying basic premises of probability. As a reminder, the sigmoid function is defined by:  \n",
    "$\\frac{1}{1+e^(-x)}$  \n",
    "Write this as a python function where x is the input and the function outputs the result of the sigmoid function."
   ]
  },
  {
   "cell_type": "code",
   "execution_count": 2,
   "metadata": {},
   "outputs": [],
   "source": [
    "#Your code here\n",
    "# predicted probability from variable x *function approximation h: x --> y\n",
    "\n",
    "def sigmoid(x):\n",
    "    return 1/ (1 + np.exp(-x))"
   ]
  },
  {
   "cell_type": "markdown",
   "metadata": {},
   "source": [
    "## Graphing the Sigmoid\n",
    "\n",
    "For good measure, let's do a brief investigation of your new function. Graph the output of your sigmoid function using 10,000 X values evenly spaced from -20 to 20."
   ]
  },
  {
   "cell_type": "code",
   "execution_count": 3,
   "metadata": {},
   "outputs": [
    {
     "data": {
      "text/plain": [
       "[<matplotlib.lines.Line2D at 0x1ef3170a390>]"
      ]
     },
     "execution_count": 3,
     "metadata": {},
     "output_type": "execute_result"
    },
    {
     "data": {
      "image/png": "[encoded data removed]",
      "text/plain": [
       "<Figure size 432x288 with 1 Axes>"
      ]
     },
     "metadata": {
      "needs_background": "light"
     },
     "output_type": "display_data"
    }
   ],
   "source": [
    "#Your code here\n",
    "import matplotlib.pyplot as plt\n",
    "%matplotlib inline\n",
    "\n",
    "x = np.linspace(-20, 20, num=10*4)\n",
    "\n",
    "plt.plot(x, sigmoid(x))\n"
   ]
  },
  {
   "cell_type": "markdown",
   "metadata": {},
   "source": [
    "## Gradient Descent with the Sigmoid Function\n",
    "\n",
    "Recall that gradient descent is a numerical method for finding a minimum to a cost function. In the case of logistic regression, we are looking to minimize the error between our model's predictions and the actual data labels. To do this, we first calculate an error vector based on the current model's feature weights. We then multiply the transpose of the training matrix itself by this error vector in order to obtain the gradient. Finally, we take the gradient, multiply it by our step size and add this to our current weight vector to update it. Below, write such a function. It will take 5 inputs:  \n",
    "* X\n",
    "* y\n",
    "* max_iterations\n",
    "* alpha (the step size)\n",
    "* initial_weights  \n",
    "By default, have your function set the initial_weights parameter to a vector where all feature weights are set to 1."
   ]
  },
  {
   "cell_type": "code",
   "execution_count": 4,
   "metadata": {},
   "outputs": [],
   "source": [
    "# Your code here\n",
    "alpha = 0.001\n",
    "\n",
    "# Your code here\n",
    "def grad_desc(X, y, max_iterations, alpha, initial_weights=None):\n",
    "    \"\"\"Be sure to set default behavior for the initial_weights parameter.\"\"\"\n",
    "    if initial_weights == None:\n",
    "        initial_weights = np.ones((X.shape[1],1)).flatten()\n",
    "    weights_col= pd.DataFrame(initial_weights)\n",
    "    weights = initial_weights\n",
    "    \n",
    "    #Create a for loop of iterations\n",
    "    for iteration in range(max_iterations):\n",
    "        #Generate predictions using the current feature weights\n",
    "        predictions = sigmoid(np.dot(X,weights))\n",
    "        \n",
    "        #Calculate an error vector based on these initial predictions and the correct labels\n",
    "        error_vector = y - predictions\n",
    "        \n",
    "        #Calculate the gradient \n",
    "        #As we saw in the previous lab, calculating the gradient is often the most difficult task.\n",
    "        #Here, your are provided with the closed form solution for the gradient of the log-loss function derived from MLE\n",
    "        \n",
    "        #For more details on the derivation, see the additional resources section below.\n",
    "        \n",
    "        # multiply X * W --> the larger w (the error is), the larger the number. The smaller it is, the more we are \n",
    "        # maximizing the conditional log likelihood (i.e., Y|X, or f: X->Y, function approximation)\n",
    "        # If gradient ascent was used we would be maximizing the conditional log likelihood instead and \n",
    "        # the w's would be the probability of Y given X rather than the error. \n",
    "        gradient = np.dot(X.transpose(),error_vector)\n",
    "        \n",
    "        #Update the weight vector take a step of alpha in direction of gradient \n",
    "        weights += alpha * gradient\n",
    "        weights_col = pd.concat([weights_col, pd.DataFrame(weights)], axis=1)\n",
    "    \n",
    "    #Return finalized Weights\n",
    "    return weights, weights_col"
   ]
  },
  {
   "cell_type": "markdown",
   "metadata": {},
   "source": [
    "## Running Your Algorithm\n",
    "\n",
    "Now that we've coded everything from the ground up, we can further investigate the convergence behavior of our gradient descent algorithm. Remember that gradient descent does not gaurantee a global minimum, only a local minimum, and that small deviations in the starting point or step size can lead to different outputs.  \n",
    "  \n",
    "Let's begin by running our algorithm and plotting the successive weights of the features through iterations. Below is a dataset, with X and y predefined for you. Use your logistic regression function to find train a model. As the model trains, record the iteration cycle of the gradient descent algorithm and the weights of the various features. Then, plot this data on subplots for each of the individual features. Each graph should have the iteration number on the x-axis and the value of that feature weight for that iteration cycle on the y-axis. This will visually display how the algorithm is adjusting the weights over successive iterations, and hopefully show convergence on stable weights."
   ]
  },
  {
   "cell_type": "code",
   "execution_count": 5,
   "metadata": {},
   "outputs": [
    {
     "name": "stdout",
     "output_type": "stream",
     "text": [
      "1.0    165\n",
      "0.0    138\n",
      "Name: target, dtype: int64\n"
     ]
    },
    {
     "data": {
      "text/html": [
       "<div>\n",
       "<style scoped>\n",
       "    .dataframe tbody tr th:only-of-type {\n",
       "        vertical-align: middle;\n",
       "    }\n",
       "\n",
       "    .dataframe tbody tr th {\n",
       "        vertical-align: top;\n",
       "    }\n",
       "\n",
       "    .dataframe thead th {\n",
       "        text-align: right;\n",
       "    }\n",
       "</style>\n",
       "<table border=\"1\" class=\"dataframe\">\n",
       "  <thead>\n",
       "    <tr style=\"text-align: right;\">\n",
       "      <th></th>\n",
       "      <th>age</th>\n",
       "      <th>sex</th>\n",
       "      <th>cp</th>\n",
       "      <th>trestbps</th>\n",
       "      <th>chol</th>\n",
       "      <th>fbs</th>\n",
       "      <th>restecg</th>\n",
       "      <th>thalach</th>\n",
       "      <th>exang</th>\n",
       "      <th>oldpeak</th>\n",
       "      <th>slope</th>\n",
       "      <th>ca</th>\n",
       "      <th>thal</th>\n",
       "    </tr>\n",
       "  </thead>\n",
       "  <tbody>\n",
       "    <tr>\n",
       "      <th>0</th>\n",
       "      <td>0.708333</td>\n",
       "      <td>1.0</td>\n",
       "      <td>1.000000</td>\n",
       "      <td>0.481132</td>\n",
       "      <td>0.244292</td>\n",
       "      <td>1.0</td>\n",
       "      <td>0.0</td>\n",
       "      <td>0.603053</td>\n",
       "      <td>0.0</td>\n",
       "      <td>0.370968</td>\n",
       "      <td>0.0</td>\n",
       "      <td>0.0</td>\n",
       "      <td>0.333333</td>\n",
       "    </tr>\n",
       "    <tr>\n",
       "      <th>1</th>\n",
       "      <td>0.166667</td>\n",
       "      <td>1.0</td>\n",
       "      <td>0.666667</td>\n",
       "      <td>0.339623</td>\n",
       "      <td>0.283105</td>\n",
       "      <td>0.0</td>\n",
       "      <td>0.5</td>\n",
       "      <td>0.885496</td>\n",
       "      <td>0.0</td>\n",
       "      <td>0.564516</td>\n",
       "      <td>0.0</td>\n",
       "      <td>0.0</td>\n",
       "      <td>0.666667</td>\n",
       "    </tr>\n",
       "    <tr>\n",
       "      <th>2</th>\n",
       "      <td>0.250000</td>\n",
       "      <td>0.0</td>\n",
       "      <td>0.333333</td>\n",
       "      <td>0.339623</td>\n",
       "      <td>0.178082</td>\n",
       "      <td>0.0</td>\n",
       "      <td>0.0</td>\n",
       "      <td>0.770992</td>\n",
       "      <td>0.0</td>\n",
       "      <td>0.225806</td>\n",
       "      <td>1.0</td>\n",
       "      <td>0.0</td>\n",
       "      <td>0.666667</td>\n",
       "    </tr>\n",
       "    <tr>\n",
       "      <th>3</th>\n",
       "      <td>0.562500</td>\n",
       "      <td>1.0</td>\n",
       "      <td>0.333333</td>\n",
       "      <td>0.245283</td>\n",
       "      <td>0.251142</td>\n",
       "      <td>0.0</td>\n",
       "      <td>0.5</td>\n",
       "      <td>0.816794</td>\n",
       "      <td>0.0</td>\n",
       "      <td>0.129032</td>\n",
       "      <td>1.0</td>\n",
       "      <td>0.0</td>\n",
       "      <td>0.666667</td>\n",
       "    </tr>\n",
       "    <tr>\n",
       "      <th>4</th>\n",
       "      <td>0.583333</td>\n",
       "      <td>0.0</td>\n",
       "      <td>0.000000</td>\n",
       "      <td>0.245283</td>\n",
       "      <td>0.520548</td>\n",
       "      <td>0.0</td>\n",
       "      <td>0.5</td>\n",
       "      <td>0.702290</td>\n",
       "      <td>1.0</td>\n",
       "      <td>0.096774</td>\n",
       "      <td>1.0</td>\n",
       "      <td>0.0</td>\n",
       "      <td>0.666667</td>\n",
       "    </tr>\n",
       "  </tbody>\n",
       "</table>\n",
       "</div>"
      ],
      "text/plain": [
       "        age  sex        cp  trestbps      chol  fbs  restecg   thalach  exang  \\\n",
       "0  0.708333  1.0  1.000000  0.481132  0.244292  1.0      0.0  0.603053    0.0   \n",
       "1  0.166667  1.0  0.666667  0.339623  0.283105  0.0      0.5  0.885496    0.0   \n",
       "2  0.250000  0.0  0.333333  0.339623  0.178082  0.0      0.0  0.770992    0.0   \n",
       "3  0.562500  1.0  0.333333  0.245283  0.251142  0.0      0.5  0.816794    0.0   \n",
       "4  0.583333  0.0  0.000000  0.245283  0.520548  0.0      0.5  0.702290    1.0   \n",
       "\n",
       "    oldpeak  slope   ca      thal  \n",
       "0  0.370968    0.0  0.0  0.333333  \n",
       "1  0.564516    0.0  0.0  0.666667  \n",
       "2  0.225806    1.0  0.0  0.666667  \n",
       "3  0.129032    1.0  0.0  0.666667  \n",
       "4  0.096774    1.0  0.0  0.666667  "
      ]
     },
     "execution_count": 5,
     "metadata": {},
     "output_type": "execute_result"
    }
   ],
   "source": [
    "import pandas as pd\n",
    "df = pd.read_csv('heart.csv')\n",
    "X = df[df.columns[:-1]]\n",
    "y = df.target\n",
    "print(y.value_counts())\n",
    "X.head()"
   ]
  },
  {
   "cell_type": "code",
   "execution_count": 6,
   "metadata": {},
   "outputs": [],
   "source": [
    "weights, weight_col = grad_desc(X, y, 10000, 0.001)"
   ]
  },
  {
   "cell_type": "code",
   "execution_count": 7,
   "metadata": {},
   "outputs": [
    {
     "data": {
      "image/png": "[encoded data removed]",
      "text/plain": [
       "<Figure size 1152x864 with 13 Axes>"
      ]
     },
     "metadata": {
      "needs_background": "light"
     },
     "output_type": "display_data"
    }
   ],
   "source": [
    "weight_col.columns = np.arange(len(weight_col.columns))\n",
    "plt.figure(figsize=(16, 12))\n",
    "\n",
    "for (i, j) in enumerate(weights):\n",
    "    plt.subplot(3, 5, i + 1)\n",
    "    plt.title(list(X)[i], size='medium')\n",
    "    plt.plot(weight_col.iloc[i].T)\n",
    "    plt.axis('tight')"
   ]
  },
  {
   "cell_type": "markdown",
   "metadata": {},
   "source": [
    "## sci-kit learn\n",
    "\n",
    "For comparison, import sci-kit learn's standard LogisticRegression function. Initialize a regression object with **no intercept** and with **C=1e16** or another very high number. The reason is as follows: our implementation has not used an intercept, and we have not performed any regularization such as Lasso or Ridge (sci-kit learn uses l2 by default). The high value of C will essentially negate this.\n",
    "\n",
    "After initializing a regression object, fit it to X and y."
   ]
  },
  {
   "cell_type": "code",
   "execution_count": 11,
   "metadata": {},
   "outputs": [
    {
     "name": "stderr",
     "output_type": "stream",
     "text": [
      "C:\\Users\\Danyal\\Anaconda3\\envs\\learn-env\\lib\\site-packages\\sklearn\\linear_model\\logistic.py:433: FutureWarning: Default solver will be changed to 'lbfgs' in 0.22. Specify a solver to silence this warning.\n",
      "  FutureWarning)\n"
     ]
    },
    {
     "data": {
      "text/plain": [
       "LogisticRegression(C=1e+16, class_weight=None, dual=False,\n",
       "          fit_intercept=False, intercept_scaling=1, max_iter=100,\n",
       "          multi_class='warn', n_jobs=None, penalty='l2', random_state=2,\n",
       "          solver='warn', tol=0.0001, verbose=0, warm_start=False)"
      ]
     },
     "execution_count": 11,
     "metadata": {},
     "output_type": "execute_result"
    }
   ],
   "source": [
    "# Your code here\n",
    "# Your code here\n",
    "from sklearn.linear_model import LogisticRegression\n",
    "\n",
    "# Since sk-learn’s LogisticRegression automatically does L2 regularization, \n",
    "# set C=1e15 to essentially turn off regularization.\n",
    "\n",
    "logreg = LogisticRegression(fit_intercept=False, C=1e16, random_state=2)\n",
    "logreg.fit(X, y)"
   ]
  },
  {
   "cell_type": "markdown",
   "metadata": {},
   "source": [
    "## Compare the models\n",
    "\n",
    "Compare the coefficient weights of your model to that generated by sci-kit learn."
   ]
  },
  {
   "cell_type": "code",
   "execution_count": 12,
   "metadata": {},
   "outputs": [
    {
     "name": "stdout",
     "output_type": "stream",
     "text": [
      "Sci-kit learn's weights: [ 0.81221467 -1.61293693  2.6179496  -1.96887354 -1.50936862  0.05688225\n",
      "  1.1521945   4.42098698 -0.83027951 -2.74686109  1.45580368 -3.115599\n",
      " -2.19130405]\n",
      "Our manual regression weights: [ 0.7802778  -1.601665    2.61772008 -1.95194946 -1.39350985  0.05818755\n",
      "  1.15984037  4.36925075 -0.83136019 -2.75080939  1.45778904 -3.10796257\n",
      " -2.19158082]\n"
     ]
    }
   ],
   "source": [
    "# Your code here\n",
    "print(\"Sci-kit learn's weights:\", logreg.coef_[0])\n",
    "print(\"Our manual regression weights:\", weights)"
   ]
  },
  {
   "cell_type": "markdown",
   "metadata": {},
   "source": [
    "## Level - Up\n",
    "\n",
    "Update the gradient descent algorithm to also return the prediction error after each iteration. Then rerun the algorithm and create a graph displaying the prediction errors versus the iteration number."
   ]
  },
  {
   "cell_type": "code",
   "execution_count": 16,
   "metadata": {},
   "outputs": [
    {
     "name": "stdout",
     "output_type": "stream",
     "text": [
      "predictions0 [0.99679908 0.99377378 0.97734599 0.99594907 0.99510627 0.9845354\n",
      " 0.97623885 0.99585842 0.99934069 0.99772882 0.99479227 0.98857334\n",
      " 0.99566227 0.99773613 0.99756052 0.98448989 0.99291285 0.98836129\n",
      " 0.99487346 0.99774638 0.99347803 0.9986666  0.99272902 0.99942498\n",
      " 0.99937203 0.99652486 0.99917354 0.9936201  0.99800915 0.99421638\n",
      " 0.98216533 0.9945298  0.99148674 0.98823977 0.99850496 0.98466199\n",
      " 0.99727641 0.99735763 0.99452519 0.99317247 0.99076132 0.98752487\n",
      " 0.99225714 0.94957332 0.99487335 0.9958564  0.99429514 0.99376529\n",
      " 0.95385745 0.97090679 0.98376405 0.98607179 0.99856672 0.97593935\n",
      " 0.98887225 0.99620743 0.98815217 0.98755949 0.99269135 0.98009386\n",
      " 0.99539964 0.99613879 0.9898923  0.98101441 0.99813585 0.98035386\n",
      " 0.99701336 0.96477703 0.99349152 0.98251845 0.99245144 0.99881778\n",
      " 0.98920379 0.9968116  0.97890909 0.9740273  0.99744742 0.99847735\n",
      " 0.99824386 0.99717169 0.99532424 0.99204003 0.99277089 0.99940679\n",
      " 0.91022706 0.99390335 0.99860339 0.99768145 0.98414378 0.93441534\n",
      " 0.99917607 0.99828601 0.99876709 0.99791509 0.95657071 0.99587471\n",
      " 0.97702348 0.99877283 0.99786518 0.99906642 0.99789675 0.99749891\n",
      " 0.99408457 0.99755441 0.99577764 0.97498615 0.99863244 0.97847572\n",
      " 0.98692982 0.96154687 0.99696674 0.99935084 0.99484324 0.99202706\n",
      " 0.99519371 0.98528704 0.99086901 0.99577229 0.98029565 0.97857149\n",
      " 0.98727599 0.99249863 0.99221961 0.98272356 0.98258339 0.98302562\n",
      " 0.98851665 0.99608068 0.97423823 0.99436555 0.99394219 0.97853708\n",
      " 0.99391979 0.99163879 0.98470981 0.98114108 0.9935295  0.99673813\n",
      " 0.99261305 0.99728029 0.98487338 0.98998692 0.9784917  0.98767074\n",
      " 0.99282174 0.9948335  0.98255144 0.99596858 0.99535597 0.9943483\n",
      " 0.99217133 0.96875849 0.9973079  0.98674563 0.97789705 0.96535511\n",
      " 0.99653764 0.99204601 0.9976857  0.99426058 0.9868247  0.99193439\n",
      " 0.99270604 0.99821478 0.99821478 0.99801599 0.99783726 0.97961508\n",
      " 0.99258018 0.99807515 0.99862467 0.98919645 0.99080531 0.99870484\n",
      " 0.99757827 0.99028712 0.99966647 0.99784488 0.99283004 0.99294673\n",
      " 0.9982169  0.98585104 0.97990138 0.99612324 0.98992323 0.98786391\n",
      " 0.99889684 0.99600378 0.99707487 0.9847842  0.99291148 0.997961\n",
      " 0.99102312 0.99846353 0.99436398 0.99719546 0.9963752  0.99865619\n",
      " 0.99809005 0.99162183 0.98727488 0.99746651 0.99725606 0.99966111\n",
      " 0.99109136 0.99854525 0.99600802 0.98955724 0.99767529 0.99866842\n",
      " 0.99464036 0.99860748 0.98747399 0.99179563 0.99817298 0.99639233\n",
      " 0.99051578 0.99967118 0.99368269 0.99920416 0.99553467 0.99724605\n",
      " 0.99904227 0.99857308 0.99765056 0.9969099  0.99215559 0.99474399\n",
      " 0.99731091 0.99894634 0.99465297 0.99840798 0.99747849 0.99108237\n",
      " 0.99470202 0.99891378 0.99615542 0.99554981 0.99889871 0.99564431\n",
      " 0.9994476  0.99243646 0.98931539 0.99762818 0.99129397 0.98690816\n",
      " 0.99591151 0.99843478 0.99822771 0.99829298 0.99917699 0.99908178\n",
      " 0.99583328 0.99579509 0.99653696 0.99761013 0.99789814 0.99419467\n",
      " 0.99338165 0.99920211 0.99923511 0.99318964 0.99784011 0.99537652\n",
      " 0.9895798  0.99607101 0.99720769 0.99516875 0.99658647 0.99686788\n",
      " 0.98971322 0.99840853 0.98398888 0.99514234 0.99186056 0.99718427\n",
      " 0.99415845 0.99628125 0.99616351 0.99625138 0.99414412 0.99694571\n",
      " 0.99802002 0.99521509 0.99826232 0.99829906 0.99873421 0.99528042\n",
      " 0.99849121 0.99618787 0.99694806 0.99613118 0.99728065 0.9956531\n",
      " 0.98899299 0.99907425 0.9868267  0.99356274 0.99106724 0.99575831\n",
      " 0.99910689 0.99671074 0.97611564]\n",
      "predictions1 [0.99550926 0.99124876 0.97055919 0.99385082 0.99287541 0.97875075\n",
      " 0.96951464 0.99362491 0.99892176 0.99648059 0.99215987 0.98486882\n",
      " 0.99347334 0.99646128 0.99656927 0.98004278 0.99028258 0.98513869\n",
      " 0.99231784 0.99676311 0.9901797  0.99783491 0.98925608 0.99906431\n",
      " 0.99893191 0.99499938 0.99869253 0.99072105 0.9971505  0.99189931\n",
      " 0.97673293 0.99155216 0.98748996 0.98372772 0.99760697 0.97984461\n",
      " 0.99619004 0.99582738 0.99238464 0.99053733 0.98755716 0.9822995\n",
      " 0.98847682 0.93757764 0.99238162 0.99374312 0.99152934 0.99080918\n",
      " 0.94523494 0.9620957  0.9786383  0.98009589 0.99773531 0.96968315\n",
      " 0.98487807 0.99426217 0.98270792 0.98194536 0.98945119 0.97355127\n",
      " 0.99366263 0.99402377 0.98598747 0.97472915 0.99712973 0.97430063\n",
      " 0.99542945 0.95582254 0.99041956 0.97663473 0.98888915 0.99802968\n",
      " 0.98443441 0.9948759  0.973301   0.96679868 0.99622877 0.99750103\n",
      " 0.99729011 0.99549031 0.99307154 0.98831297 0.99012693 0.99904979\n",
      " 0.8939708  0.9914836  0.99773618 0.99642434 0.97957589 0.92029008\n",
      " 0.99870455 0.99711617 0.99805147 0.99691986 0.94683608 0.99337838\n",
      " 0.97013754 0.99803896 0.9967385  0.9985264  0.99677011 0.99621433\n",
      " 0.99170867 0.99637701 0.99368197 0.96822009 0.99791524 0.97133471\n",
      " 0.98260072 0.95086391 0.99544636 0.9989329  0.99266825 0.98804768\n",
      " 0.99278836 0.98077736 0.98706835 0.9936351  0.97428827 0.97143025\n",
      " 0.98322537 0.98872219 0.98909582 0.97723394 0.97739817 0.9777877\n",
      " 0.98348887 0.99443058 0.96722867 0.99182206 0.99164177 0.97254251\n",
      " 0.99105622 0.98791478 0.97989642 0.97512116 0.9913857  0.99508104\n",
      " 0.98923715 0.99563927 0.98002398 0.98572246 0.97277035 0.98331218\n",
      " 0.99036634 0.99214104 0.97779844 0.99435077 0.9931095  0.99172282\n",
      " 0.98858389 0.96028418 0.99582326 0.98248328 0.97219487 0.95644082\n",
      " 0.99476939 0.98846073 0.99640296 0.99117193 0.98173853 0.9889712\n",
      " 0.98930999 0.99724866 0.99724866 0.99682421 0.99646426 0.97388006\n",
      " 0.98885293 0.99696394 0.99789316 0.98464372 0.98676525 0.99789027\n",
      " 0.99607319 0.98547745 0.9994124  0.99664795 0.9890871  0.98963599\n",
      " 0.99709514 0.98084012 0.97316067 0.9941011  0.9852609  0.98251581\n",
      " 0.99811886 0.99372206 0.99552747 0.97778987 0.98987353 0.99667649\n",
      " 0.9868968  0.99745272 0.99174904 0.99554738 0.99468586 0.99786489\n",
      " 0.9969085  0.98782385 0.98160597 0.99589536 0.99550118 0.99941299\n",
      " 0.9878999  0.99755094 0.99365998 0.98560256 0.99644567 0.99773359\n",
      " 0.99196176 0.9977001  0.9820892  0.98817355 0.99712954 0.99481398\n",
      " 0.98725995 0.99941947 0.99047691 0.99865244 0.99361512 0.99570847\n",
      " 0.99851413 0.99787522 0.99623691 0.9951197  0.98845536 0.99195753\n",
      " 0.99583976 0.99825781 0.99213653 0.99750908 0.99590421 0.98699166\n",
      " 0.99215561 0.9981459  0.99393146 0.9931381  0.99812605 0.99306513\n",
      " 0.99905911 0.98935704 0.98498687 0.99620445 0.9873913  0.9809656\n",
      " 0.99396069 0.99755147 0.9971004  0.99729182 0.99862573 0.99849212\n",
      " 0.9943663  0.99349159 0.99477408 0.99614374 0.99658174 0.99098638\n",
      " 0.99062322 0.99868829 0.99879617 0.98990163 0.99654907 0.99335477\n",
      " 0.98467907 0.9937634  0.99596872 0.99285665 0.99473209 0.99520498\n",
      " 0.9846981  0.99757612 0.97776666 0.99248996 0.98795165 0.99554528\n",
      " 0.9912814  0.99423175 0.99465508 0.99418324 0.99146582 0.99555129\n",
      " 0.99713277 0.99261686 0.99707685 0.99724951 0.99800827 0.99283362\n",
      " 0.99752445 0.99443686 0.99514474 0.99453067 0.99616606 0.99335453\n",
      " 0.98463109 0.99839995 0.9819774  0.99101343 0.98733487 0.99374807\n",
      " 0.9985638  0.99478577 0.96919267]\n",
      "predictions2 [0.99371454 0.98773604 0.9618855  0.99069931 0.98966054 0.97091831\n",
      " 0.96102545 0.99022414 0.99824219 0.99456452 0.98824082 0.9800258\n",
      " 0.99021477 0.99448561 0.99518787 0.97439645 0.98671784 0.98106976\n",
      " 0.98853026 0.99536373 0.98527234 0.99649579 0.98418754 0.99848157\n",
      " 0.99818929 0.99282566 0.99793767 0.9865528  0.99593222 0.98868493\n",
      " 0.96975081 0.98700777 0.98169405 0.97756397 0.99618141 0.97359322\n",
      " 0.99468431 0.99343475 0.98943928 0.98692687 0.98329309 0.97499173\n",
      " 0.98291618 0.9230622  0.98872003 0.99058569 0.98746992 0.98650232\n",
      " 0.9351907  0.95083635 0.97199256 0.97168639 0.99643249 0.96192355\n",
      " 0.97952252 0.99134895 0.97488194 0.97392232 0.98483129 0.96499889\n",
      " 0.99129301 0.99078508 0.98064233 0.96648907 0.99559418 0.96650582\n",
      " 0.99302706 0.94480376 0.98595105 0.96889274 0.98371    0.99672713\n",
      " 0.97765558 0.99179572 0.96630683 0.95771208 0.99444375 0.99591236\n",
      " 0.99583118 0.99283431 0.98976958 0.98291035 0.98655719 0.99848243\n",
      " 0.87530343 0.98814032 0.99634297 0.99450322 0.97377108 0.90355224\n",
      " 0.99796908 0.99516541 0.99692993 0.99546156 0.93515346 0.9894137\n",
      " 0.96133272 0.99687566 0.99503276 0.99768075 0.99505574 0.99428699\n",
      " 0.98841491 0.99464753 0.99057924 0.95976091 0.99683061 0.96197512\n",
      " 0.97691551 0.93750699 0.99318503 0.99825143 0.98960957 0.98216051\n",
      " 0.98921852 0.97496731 0.98175194 0.99045094 0.96657265 0.96206013\n",
      " 0.9779499  0.98311768 0.98476794 0.97010975 0.9707689  0.97103471\n",
      " 0.97636278 0.99210961 0.95845992 0.98816887 0.98850254 0.96499016\n",
      " 0.98689235 0.98259982 0.97365728 0.96730363 0.98856066 0.99260576\n",
      " 0.98437177 0.99303148 0.9737112  0.97972029 0.96563577 0.97749063\n",
      " 0.98710632 0.98809178 0.97183237 0.9921071  0.9898122  0.98792065\n",
      " 0.98341591 0.94970467 0.99354195 0.97692352 0.96512804 0.94544042\n",
      " 0.99212523 0.98332423 0.99442663 0.98647841 0.9747852  0.98496713\n",
      " 0.98439389 0.99577259 0.99577259 0.99493162 0.99423863 0.96663266\n",
      " 0.98332219 0.99522451 0.99678068 0.97825718 0.98102351 0.99657491\n",
      " 0.99365375 0.97838054 0.998968   0.9948037  0.98345695 0.9848231\n",
      " 0.99528268 0.9741457  0.96430912 0.99105518 0.97853285 0.97492363\n",
      " 0.99680303 0.99017213 0.99318392 0.96775688 0.98558049 0.99460002\n",
      " 0.98094938 0.99579033 0.98796198 0.99295343 0.99223248 0.99661767\n",
      " 0.99501146 0.98237232 0.97353616 0.99337235 0.99265127 0.99898626\n",
      " 0.98361075 0.99589129 0.98996806 0.98021756 0.99458198 0.99615594\n",
      " 0.98798861 0.99621328 0.9745003  0.98301338 0.99550268 0.99256405\n",
      " 0.98293682 0.99897819 0.98569955 0.99772524 0.99089664 0.99333211\n",
      " 0.99770116 0.9968431  0.9939919  0.99231737 0.98307537 0.98773823\n",
      " 0.99358559 0.9971283  0.98847671 0.99611358 0.99336988 0.98109225\n",
      " 0.98842327 0.99684602 0.99045836 0.98945844 0.99682185 0.98900287\n",
      " 0.99840227 0.98507056 0.97898    0.99394536 0.98180299 0.9724591\n",
      " 0.99110565 0.99618008 0.99527324 0.99571698 0.99771179 0.99753052\n",
      " 0.99239931 0.98996033 0.99214051 0.9937979  0.99445871 0.98606064\n",
      " 0.98675562 0.99785011 0.99811031 0.98508435 0.99450313 0.99047587\n",
      " 0.97756738 0.99013759 0.9941946  0.98947332 0.99189535 0.99267985\n",
      " 0.97734602 0.99631882 0.96925611 0.98843545 0.98223287 0.99297748\n",
      " 0.98703395 0.99108604 0.99257306 0.99100364 0.98760086 0.99353615\n",
      " 0.995858   0.9886531  0.99509993 0.99556577 0.99687581 0.98915884\n",
      " 0.99595093 0.99190446 0.99230488 0.99228665 0.9946062  0.9898778\n",
      " 0.97861086 0.99724363 0.97542913 0.987488   0.98210487 0.99081498\n",
      " 0.99769702 0.99176245 0.96040875]\n",
      "predictions3 [0.99123167 0.98288419 0.95090478 0.98600486 0.98506206 0.96041497\n",
      " 0.95040202 0.98509091 0.99714714 0.99164526 0.98245661 0.97374364\n",
      " 0.98540369 0.99144518 0.99327483 0.96728157 0.9819234  0.97596481\n",
      " 0.98296439 0.99338508 0.97803884 0.99435472 0.97685935 0.99754553\n",
      " 0.99694489 0.98974978 0.99676065 0.9806101  0.99421428 0.98425543\n",
      " 0.96085406 0.98013836 0.97337216 0.96921593 0.99393368 0.96554108\n",
      " 0.99261049 0.98972388 0.98541607 0.98201794 0.97766134 0.96487483\n",
      " 0.97481062 0.90568332 0.98338482 0.98590685 0.98156393 0.9802826\n",
      " 0.923583   0.93660381 0.96345061 0.95998112 0.9944046  0.95237871\n",
      " 0.97240288 0.98702053 0.96375844 0.9625856  0.97830224 0.95392786\n",
      " 0.98808141 0.98586813 0.97338788 0.95578557 0.99326677 0.95655931\n",
      " 0.98940896 0.93137402 0.97950872 0.95880216 0.97624962 0.9945896\n",
      " 0.96811976 0.98693564 0.95765354 0.94639282 0.99184598 0.99334604\n",
      " 0.99361477 0.98867152 0.98496911 0.97515345 0.98177345 0.99758643\n",
      " 0.8540922  0.98355522 0.99412116 0.99158847 0.96645074 0.88393314\n",
      " 0.99682913 0.99193788 0.99518403 0.99333764 0.92126078 0.98317417\n",
      " 0.95017742 0.99504372 0.99246855 0.99636489 0.99246569 0.99141493\n",
      " 0.98388281 0.99212338 0.98602266 0.94927507 0.99520045 0.94982472\n",
      " 0.96951118 0.92099611 0.98984533 0.99714765 0.98534089 0.97353989\n",
      " 0.98396497 0.96754319 0.97437966 0.98574514 0.95675316 0.94988323\n",
      " 0.97112925 0.97488371 0.97881893 0.9609476  0.96236571 0.96240378\n",
      " 0.96636666 0.98886829 0.94758808 0.98296171 0.98424989 0.95555463\n",
      " 0.98088986 0.97508385 0.96563814 0.95724562 0.98486175 0.98893542\n",
      " 0.97741663 0.98891868 0.96556378 0.97135    0.95681067 0.96978014\n",
      " 0.98280737 0.98205634 0.96439934 0.98901737 0.98501192 0.98246017\n",
      " 0.97603794 0.9366217  0.9900633  0.96972838 0.95643878 0.9319933\n",
      " 0.98820238 0.97603267 0.99140307 0.97941535 0.96536653 0.9795982\n",
      " 0.97734263 0.99353272 0.99353272 0.99194617 0.99065727 0.95754337\n",
      " 0.97519422 0.99251878 0.99509848 0.9693813  0.97293811 0.99446617\n",
      " 0.98979335 0.96801671 0.99819556 0.99198323 0.97506813 0.97788326\n",
      " 0.99237475 0.96527825 0.95280312 0.9865035  0.96892125 0.96426016\n",
      " 0.9945934  0.98469374 0.98966107 0.95355004 0.97956045 0.99126708\n",
      " 0.97245739 0.99307527 0.98252128 0.9889004  0.98869446 0.99466466\n",
      " 0.99198657 0.97461864 0.96217609 0.98935151 0.98806131 0.99825691\n",
      " 0.97788552 0.99314173 0.98421226 0.97294468 0.99177657 0.99351336\n",
      " 0.98214539 0.99379352 0.96391522 0.97572409 0.99298206 0.98937612\n",
      " 0.97723823 0.99820932 0.978644   0.99617704 0.98707282 0.98968412\n",
      " 0.99645747 0.9953244  0.99045221 0.98796317 0.97532429 0.98140313\n",
      " 0.99015795 0.99528771 0.98319803 0.99396081 0.98932134 0.97265725\n",
      " 0.9829947  0.99466156 0.98508241 0.98389174 0.99463592 0.98266323\n",
      " 0.99729868 0.97914843 0.97071562 0.99038629 0.97386806 0.96042139\n",
      " 0.98695621 0.99406387 0.99233506 0.99325693 0.99620586 0.99597166\n",
      " 0.98977616 0.98458943 0.98823679 0.9900726  0.99105924 0.97856806\n",
      " 0.98137227 0.99649161 0.99704471 0.97809065 0.99128307 0.9864037\n",
      " 0.96734977 0.98448942 0.99166918 0.98456106 0.98758673 0.98887052\n",
      " 0.96668819 0.99443192 0.9577332  0.98229407 0.97394128 0.98898677\n",
      " 0.98081585 0.98629863 0.98971752 0.98615216 0.98206447 0.99064102\n",
      " 0.994037   0.98266125 0.99182839 0.99288271 0.9951213  0.98368705\n",
      " 0.99340728 0.98826616 0.98787028 0.98915885 0.99243452 0.98466329\n",
      " 0.97036802 0.99527451 0.96666129 0.98264452 0.97483643 0.98656778\n",
      " 0.99632207 0.98705103 0.94936469]\n",
      "predictions4 [0.98782465 0.97624953 0.93717651 0.97909433 0.9785532  0.94651433\n",
      " 0.93726116 0.97743887 0.99539938 0.98724504 0.97402462 0.96568058\n",
      " 0.97838342 0.98681317 0.99064869 0.95840653 0.97554249 0.96961476\n",
      " 0.97488395 0.99061271 0.96751802 0.99096607 0.966404   0.99605457\n",
      " 0.99488024 0.98543962 0.99494217 0.97223791 0.99181262 0.97820823\n",
      " 0.94964779 0.96989704 0.96158971 0.95804258 0.99042432 0.95527278\n",
      " 0.98977931 0.9840353  0.97997597 0.97541397 0.97029984 0.95106469\n",
      " 0.96314766 0.88515343 0.97570417 0.97905441 0.97307791 0.97141193\n",
      " 0.91030436 0.91886702 0.9525986  0.94393444 0.9912784  0.94076519\n",
      " 0.96304804 0.98066182 0.9481964  0.94681802 0.96918913 0.93978187\n",
      " 0.98376783 0.97849507 0.96365763 0.94205398 0.98977388 0.94402006\n",
      " 0.9840153  0.91520685 0.97033709 0.94581771 0.96564327 0.99111819\n",
      " 0.95489817 0.97936152 0.94706032 0.93245862 0.98810002 0.98924414\n",
      " 0.99028052 0.98222137 0.97807072 0.96416584 0.97542851 0.99618416\n",
      " 0.8302978  0.97733147 0.99061543 0.98721168 0.95731338 0.86124512\n",
      " 0.99507814 0.98665948 0.99249236 0.99027084 0.90493177 0.97348577\n",
      " 0.93621493 0.99218608 0.98865262 0.99433594 0.98859261 0.98717646\n",
      " 0.97771138 0.98847283 0.97940783 0.93642216 0.99277191 0.93425181\n",
      " 0.95997571 0.90088408 0.9849623  0.9953769  0.97944667 0.96110009\n",
      " 0.97632602 0.95816087 0.9642797  0.97887022 0.9444071  0.93426089\n",
      " 0.96239752 0.96295971 0.97073044 0.9493065  0.95183518 0.95150036\n",
      " 0.95254585 0.98438649 0.93426586 0.97561882 0.97854696 0.94389632\n",
      " 0.97234215 0.96459206 0.95544757 0.94446472 0.98006122 0.98354996\n",
      " 0.96758841 0.982504   0.95516934 0.95982675 0.94601082 0.95968394\n",
      " 0.97719112 0.97317548 0.95523038 0.98480416 0.97810428 0.9747101\n",
      " 0.96563823 0.92064097 0.98481712 0.96051541 0.94586521 0.9157544\n",
      " 0.98244766 0.96581481 0.98682399 0.96893482 0.95276918 0.9724752\n",
      " 0.96735955 0.99016693 0.99016693 0.98728251 0.98495637 0.94625802\n",
      " 0.9634133  0.98834823 0.99257564 0.95720486 0.96169838 0.99112065\n",
      " 0.98370089 0.95310536 0.99686514 0.98771585 0.96273961 0.96799194\n",
      " 0.98775701 0.95366756 0.93804816 0.97977875 0.95538426 0.94950458\n",
      " 0.99092172 0.97633907 0.98442193 0.9337939  0.97120931 0.98597302\n",
      " 0.96049205 0.98868601 0.97479324 0.98263475 0.98364284 0.99163511\n",
      " 0.9872117  0.9637319  0.94643162 0.98301499 0.98075912 0.99702138\n",
      " 0.97031443 0.98863635 0.9753503  0.96323178 0.98759482 0.98913566\n",
      " 0.97365602 0.98989443 0.94936231 0.96554882 0.9891121  0.98489744\n",
      " 0.96980097 0.99688156 0.9683576  0.99361628 0.98174518 0.98413884\n",
      " 0.99457156 0.99310593 0.98492967 0.9812708  0.96430101 0.972007\n",
      " 0.98500289 0.99231737 0.97567345 0.99066988 0.98292686 0.96074316\n",
      " 0.97518531 0.99102947 0.97686763 0.97557303 0.99100991 0.97290224\n",
      " 0.99546139 0.9710513  0.9594807  0.98483762 0.96273447 0.94365832\n",
      " 0.9809847  0.99082704 0.98766416 0.98945251 0.99374655 0.99346627\n",
      " 0.98630421 0.97651367 0.98251428 0.98422016 0.98567296 0.96732468\n",
      " 0.97395505 0.99431025 0.99540249 0.96806812 0.98626572 0.98069756\n",
      " 0.95287648 0.97580125 0.98810419 0.97750799 0.98110998 0.98317826\n",
      " 0.95148229 0.99162603 0.9423472  0.97311376 0.96207316 0.98285657\n",
      " 0.97182145 0.97910138 0.98583551 0.97883093 0.97421659 0.98651628\n",
      " 0.9914569  0.97372229 0.98647558 0.98864894 0.99242971 0.97563938\n",
      " 0.98933635 0.98308765 0.98102979 0.98483515 0.98943307 0.9769367\n",
      " 0.95920681 0.99195539 0.9550566  0.97605103 0.96485017 0.98048356\n",
      " 0.99416022 0.97979247 0.93564454]\n",
      "Coefficient weights:\n",
      " [0.61566613 0.44228702 0.89681    0.74491848 0.80959323 0.89117271\n",
      " 0.8507245  0.6564832  0.62501895 0.82688648 0.61468465 0.80142243\n",
      " 0.43315969]\n"
     ]
    },
    {
     "data": {
      "text/plain": [
       "[<matplotlib.lines.Line2D at 0x1ef33b35c18>]"
      ]
     },
     "execution_count": 16,
     "metadata": {},
     "output_type": "execute_result"
    },
    {
     "data": {
      "image/png": "[encoded data removed]",
      "text/plain": [
       "<Figure size 432x288 with 1 Axes>"
      ]
     },
     "metadata": {
      "needs_background": "light"
     },
     "output_type": "display_data"
    }
   ],
   "source": [
    "import matplotlib.pyplot as plt\n",
    "%matplotlib inline\n",
    "\n",
    "def grad_desc(X, y, max_iterations, alpha, initial_weights=None):\n",
    "    \"\"\"Be sure to set default behavior for the initial_weights parameter.\"\"\"\n",
    "    if initial_weights == None:\n",
    "        initial_weights = np.ones((X.shape[1],1)).flatten()\n",
    "    weights = initial_weights\n",
    "    training_errors = []\n",
    "    #Create a for loop of iterations\n",
    "    for iteration in range(max_iterations):\n",
    "        #Generate predictions using the current feature weights\n",
    "        predictions = sigmoid(np.dot(X,weights))\n",
    "        print('predictions' + str(iteration), predictions)\n",
    "        #Calculate an error vector based on these initial predictions and the correct labels\n",
    "        error_vector = y - predictions\n",
    "        #Calculate the gradient (transpose of X times error is the gradient)\n",
    "        gradient = np.dot(X.transpose(),error_vector)\n",
    "        #Update the weight vector take a step of alpha in direction of gradient \n",
    "        weights += alpha * gradient\n",
    "        training_errors.append(np.abs(error_vector).sum())\n",
    "    #Return finalized Weights\n",
    "    return weights, training_errors\n",
    "max_iterations = 5\n",
    "weights, training_errors = grad_desc(X, y, max_iterations, 0.001)\n",
    "print('Coefficient weights:\\n', weights)\n",
    "plt.plot(range(max_iterations), training_errors)"
   ]
  },
  {
   "cell_type": "markdown",
   "metadata": {},
   "source": [
    "## Building a Gradient Ascent Function using the Conditional Maximum Likelihood \n",
    "\n",
    "[gradient ascent with logistic regression](http://cs.wellesley.edu/~sravana/ml/logisticregression.pdf)\n"
   ]
  },
  {
   "cell_type": "code",
   "execution_count": null,
   "metadata": {},
   "outputs": [],
   "source": [
    "def log_likelihood(X, y, weights):\n",
    "    scores = np.dot(features, weights)\n",
    "    ll = np.sum(y*scores - np.log(1 + np.exp(scores)))\n",
    "    return ll"
   ]
  },
  {
   "cell_type": "markdown",
   "metadata": {},
   "source": [
    "## Additional Resources\n",
    "\n",
    "If you want to see more of the mathematics behind the gradient derivation above, check out section 4.4.1 from the Elements of Statistical Learning which can be found here: https://web.stanford.edu/~hastie/ElemStatLearn//."
   ]
  },
  {
   "cell_type": "markdown",
   "metadata": {},
   "source": [
    "## Summary\n",
    "\n",
    "Congratulations! You just coded logistic regression from the ground up using NumPy! With this, you should have a fairly deep understanding of logistic regression and how the algorithm works! In the upcoming labs, we'll continue to explore this from a few more angles, plotting our data along with the decision boundary for our predictions."
   ]
  }
 ],
 "metadata": {
  "kernelspec": {
   "display_name": "learn-env",
   "language": "python",
   "name": "learn-env"
  },
  "language_info": {
   "codemirror_mode": {
    "name": "ipython",
    "version": 3
   },
   "file_extension": ".py",
   "mimetype": "text/x-python",
   "name": "python",
   "nbconvert_exporter": "python",
   "pygments_lexer": "ipython3",
   "version": "3.6.6"
  }
 },
 "nbformat": 4,
 "nbformat_minor": 2
}
